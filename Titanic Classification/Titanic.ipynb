{
 "cells": [
  {
   "cell_type": "code",
   "execution_count": null,
   "id": "06dd1778-8db9-46a5-98af-d2d045fd8509",
   "metadata": {},
   "outputs": [],
   "source": [
    "import warnings \n",
    "import numpy as np \n",
    "import pandas as pd \n",
    "import matplotlib.pyplot as plt \n",
    "import seaborn as sns \n",
    "plt.style.use('fivethirtyeight') \n",
    "%matplotlib inline \n",
    "warnings.filterwarnings('ignore') "
   ]
  },
  {
   "cell_type": "code",
   "execution_count": null,
   "id": "b9d1acc8-689a-42f5-b657-011f313baa75",
   "metadata": {},
   "outputs": [],
   "source": [
    "train = pd.read_csv('train.csv') \n",
    "test = pd.read_csv('test.csv') \n",
    "\n",
    "# To know number of columns and rows \n",
    "train.shape \n",
    "# (891, 12) "
   ]
  },
  {
   "cell_type": "code",
   "execution_count": null,
   "id": "69bd14ba-1326-4bb2-95cb-472841acfbbf",
   "metadata": {},
   "outputs": [],
   "source": [
    "train.info() "
   ]
  },
  {
   "cell_type": "code",
   "execution_count": null,
   "id": "cd94880a-fc74-448d-a773-a08bd5487fc7",
   "metadata": {},
   "outputs": [],
   "source": [
    "train.isnull().sum() "
   ]
  },
  {
   "cell_type": "code",
   "execution_count": null,
   "id": "957714df-a403-4721-b1f6-a4445d85ceb8",
   "metadata": {},
   "outputs": [],
   "source": [
    "f, ax = plt.subplots(1, 2, figsize=(12, 4)) \n",
    "train['Survived'].value_counts().plot.pie( \n",
    "\texplode=[0, 0.1], autopct='%1.1f%%', ax=ax[0], shadow=False) \n",
    "ax[0].set_title('Survivors (1) and the dead (0)') \n",
    "ax[0].set_ylabel('') \n",
    "sns.countplot('Survived', data=train, ax=ax[1]) \n",
    "ax[1].set_ylabel('Quantity') \n",
    "ax[1].set_title('Survivors (1) and the dead (0)') \n",
    "plt.show() "
   ]
  },
  {
   "cell_type": "code",
   "execution_count": null,
   "id": "c6d97cb2-2a72-44c1-9165-385fd697e072",
   "metadata": {},
   "outputs": [],
   "source": [
    "f, ax = plt.subplots(1, 2, figsize=(12, 4)) \n",
    "train[['Sex', 'Survived']].groupby(['Sex']).mean().plot.bar(ax=ax[0]) \n",
    "ax[0].set_title('Survivors by sex') \n",
    "sns.countplot('Sex', hue='Survived', data=train, ax=ax[1]) \n",
    "ax[1].set_ylabel('Quantity') \n",
    "ax[1].set_title('Survived (1) and deceased (0): men and women') \n",
    "plt.show() "
   ]
  },
  {
   "cell_type": "code",
   "execution_count": null,
   "id": "807d3017-84a2-4ae4-9570-7a74a8ac704d",
   "metadata": {},
   "outputs": [],
   "source": [
    "# Create a new column cabinbool indicating \n",
    "# if the cabin value was given or was NaN \n",
    "train[\"CabinBool\"] = (train[\"Cabin\"].notnull().astype('int')) \n",
    "test[\"CabinBool\"] = (test[\"Cabin\"].notnull().astype('int')) \n",
    "\n",
    "# Delete the column 'Cabin' from test \n",
    "# and train dataset \n",
    "train = train.drop(['Cabin'], axis=1) \n",
    "test = test.drop(['Cabin'], axis=1)"
   ]
  },
  {
   "cell_type": "code",
   "execution_count": null,
   "id": "f4f4ae76-d986-4975-ae3b-423487660e5b",
   "metadata": {},
   "outputs": [],
   "source": [
    "train = train.drop(['Ticket'], axis=1) \n",
    "test = test.drop(['Ticket'], axis=1) "
   ]
  },
  {
   "cell_type": "code",
   "execution_count": null,
   "id": "5b649d89-f103-4f6c-93af-a92af3bc8f4c",
   "metadata": {},
   "outputs": [],
   "source": [
    "# replacing the missing values in \n",
    "# the Embarked feature with S \n",
    "train = train.fillna({\"Embarked\": \"S\"}) "
   ]
  },
  {
   "cell_type": "code",
   "execution_count": null,
   "id": "51103b7e-c21d-4f37-b474-91645f763d47",
   "metadata": {},
   "outputs": [],
   "source": [
    "# sort the ages into logical categories \n",
    "train[\"Age\"] = train[\"Age\"].fillna(-0.5) \n",
    "test[\"Age\"] = test[\"Age\"].fillna(-0.5) \n",
    "bins = [-1, 0, 5, 12, 18, 24, 35, 60, np.inf] \n",
    "labels = ['Unknown', 'Baby', 'Child', 'Teenager', \n",
    "\t\t'Student', 'Young Adult', 'Adult', 'Senior'] \n",
    "train['AgeGroup'] = pd.cut(train[\"Age\"], bins, labels=labels) \n",
    "test['AgeGroup'] = pd.cut(test[\"Age\"], bins, labels=labels) "
   ]
  },
  {
   "cell_type": "code",
   "execution_count": null,
   "id": "fb6da157-81a1-4e96-916a-d09d5e408843",
   "metadata": {},
   "outputs": [],
   "source": [
    "# create a combined group of both datasets \n",
    "combine = [train, test] \n",
    "\n",
    "# extract a title for each Name in the \n",
    "# train and test datasets \n",
    "for dataset in combine: \n",
    "\tdataset['Title'] = dataset.Name.str.extract(' ([A-Za-z]+)\\.', expand=False) \n",
    "\n",
    "pd.crosstab(train['Title'], train['Sex']) \n",
    "\n",
    "# replace various titles with more common names \n",
    "for dataset in combine: \n",
    "\tdataset['Title'] = dataset['Title'].replace(['Lady', 'Capt', 'Col', \n",
    "\t\t\t\t\t\t\t\t\t\t\t\t'Don', 'Dr', 'Major', \n",
    "\t\t\t\t\t\t\t\t\t\t\t\t'Rev', 'Jonkheer', 'Dona'], \n",
    "\t\t\t\t\t\t\t\t\t\t\t\t'Rare') \n",
    "\n",
    "\tdataset['Title'] = dataset['Title'].replace( \n",
    "\t\t['Countess', 'Lady', 'Sir'], 'Royal') \n",
    "\tdataset['Title'] = dataset['Title'].replace('Mlle', 'Miss') \n",
    "\tdataset['Title'] = dataset['Title'].replace('Ms', 'Miss') \n",
    "\tdataset['Title'] = dataset['Title'].replace('Mme', 'Mrs') \n",
    "\n",
    "train[['Title', 'Survived']].groupby(['Title'], as_index=False).mean() \n",
    "\n",
    "# map each of the title groups to a numerical value \n",
    "title_mapping = {\"Mr\": 1, \"Miss\": 2, \"Mrs\": 3, \n",
    "\t\t\t\t\"Master\": 4, \"Royal\": 5, \"Rare\": 6} \n",
    "for dataset in combine: \n",
    "\tdataset['Title'] = dataset['Title'].map(title_mapping) \n",
    "\tdataset['Title'] = dataset['Title'].fillna(0) "
   ]
  },
  {
   "cell_type": "code",
   "execution_count": null,
   "id": "72b91654-61c8-4157-9174-1ffd866ebcc9",
   "metadata": {},
   "outputs": [],
   "source": [
    "mr_age = train[train[\"Title\"] == 1][\"AgeGroup\"].mode() # Young Adult \n",
    "miss_age = train[train[\"Title\"] == 2][\"AgeGroup\"].mode() # Student \n",
    "mrs_age = train[train[\"Title\"] == 3][\"AgeGroup\"].mode() # Adult \n",
    "master_age = train[train[\"Title\"] == 4][\"AgeGroup\"].mode() # Baby \n",
    "royal_age = train[train[\"Title\"] == 5][\"AgeGroup\"].mode() # Adult \n",
    "rare_age = train[train[\"Title\"] == 6][\"AgeGroup\"].mode() # Adult \n",
    "\n",
    "age_title_mapping = {1: \"Young Adult\", 2: \"Student\", \n",
    "\t\t\t\t\t3: \"Adult\", 4: \"Baby\", 5: \"Adult\", 6: \"Adult\"} \n",
    "\n",
    "for x in range(len(train[\"AgeGroup\"])): \n",
    "\tif train[\"AgeGroup\"][x] == \"Unknown\": \n",
    "\t\ttrain[\"AgeGroup\"][x] = age_title_mapping[train[\"Title\"][x]] \n",
    "\n",
    "for x in range(len(test[\"AgeGroup\"])): \n",
    "\tif test[\"AgeGroup\"][x] == \"Unknown\": \n",
    "\t\ttest[\"AgeGroup\"][x] = age_title_mapping[test[\"Title\"][x]] "
   ]
  },
  {
   "cell_type": "code",
   "execution_count": null,
   "id": "25e94c6d-4459-4fe4-9548-6d2818d5ad15",
   "metadata": {},
   "outputs": [],
   "source": [
    "# map each Age value to a numerical value \n",
    "age_mapping = {'Baby': 1, 'Child': 2, 'Teenager': 3, \n",
    "\t\t\t'Student': 4, 'Young Adult': 5, 'Adult': 6, \n",
    "\t\t\t'Senior': 7} \n",
    "train['AgeGroup'] = train['AgeGroup'].map(age_mapping) \n",
    "test['AgeGroup'] = test['AgeGroup'].map(age_mapping) \n",
    "\n",
    "train.head() \n",
    "\n",
    "# dropping the Age feature for now, might change \n",
    "train = train.drop(['Age'], axis=1) \n",
    "test = test.drop(['Age'], axis=1) "
   ]
  },
  {
   "cell_type": "code",
   "execution_count": null,
   "id": "b8fcecfe-7a70-40d9-8199-8708a6457462",
   "metadata": {},
   "outputs": [],
   "source": [
    "train = train.drop(['Name'], axis=1) \n",
    "test = test.drop(['Name'], axis=1) "
   ]
  },
  {
   "cell_type": "code",
   "execution_count": null,
   "id": "d04b7354-e1c0-42ce-9e42-37e37ce82622",
   "metadata": {},
   "outputs": [],
   "source": [
    "sex_mapping = {\"male\": 0, \"female\": 1} \n",
    "train['Sex'] = train['Sex'].map(sex_mapping) \n",
    "test['Sex'] = test['Sex'].map(sex_mapping) \n",
    "\n",
    "embarked_mapping = {\"S\": 1, \"C\": 2, \"Q\": 3} \n",
    "train['Embarked'] = train['Embarked'].map(embarked_mapping) \n",
    "test['Embarked'] = test['Embarked'].map(embarked_mapping) "
   ]
  },
  {
   "cell_type": "code",
   "execution_count": null,
   "id": "8c2137a7-5694-4e35-bab7-c141bf922aeb",
   "metadata": {},
   "outputs": [],
   "source": [
    "for x in range(len(test[\"Fare\"])): \n",
    "\tif pd.isnull(test[\"Fare\"][x]): \n",
    "\t\tpclass = test[\"Pclass\"][x] # Pclass = 3 \n",
    "\t\ttest[\"Fare\"][x] = round( \n",
    "\t\t\ttrain[train[\"Pclass\"] == pclass][\"Fare\"].mean(), 4) \n",
    "\n",
    "# map Fare values into groups of \n",
    "# numerical values \n",
    "train['FareBand'] = pd.qcut(train['Fare'], 4, \n",
    "\t\t\t\t\t\t\tlabels=[1, 2, 3, 4]) \n",
    "test['FareBand'] = pd.qcut(test['Fare'], 4, \n",
    "\t\t\t\t\t\tlabels=[1, 2, 3, 4]) \n",
    "\n",
    "# drop Fare values \n",
    "train = train.drop(['Fare'], axis=1) \n",
    "test = test.drop(['Fare'], axis=1) "
   ]
  },
  {
   "cell_type": "code",
   "execution_count": null,
   "id": "1175bff9-7734-4a2c-b229-5246c97a65a8",
   "metadata": {},
   "outputs": [],
   "source": [
    "from sklearn.model_selection import train_test_split \n",
    "\n",
    "# Drop the Survived and PassengerId \n",
    "# column from the trainset \n",
    "predictors = train.drop(['Survived', 'PassengerId'], axis=1) \n",
    "target = train[\"Survived\"] \n",
    "x_train, x_val, y_train, y_val = train_test_split( \n",
    "\tpredictors, target, test_size=0.2, random_state=0) "
   ]
  },
  {
   "cell_type": "code",
   "execution_count": null,
   "id": "1d087d60-e396-4418-a6ac-8a1321dd4d56",
   "metadata": {},
   "outputs": [],
   "source": [
    "from sklearn.ensemble import RandomForestClassifier \n",
    "from sklearn.metrics import accuracy_score \n",
    "\n",
    "randomforest = RandomForestClassifier() \n",
    "\n",
    "# Fit the training data along with its output \n",
    "randomforest.fit(x_train, y_train) \n",
    "y_pred = randomforest.predict(x_val) \n",
    "\n",
    "# Find the accuracy score of the model \n",
    "acc_randomforest = round(accuracy_score(y_pred, y_val) * 100, 2) \n",
    "print(acc_randomforest) "
   ]
  },
  {
   "cell_type": "code",
   "execution_count": 1,
   "id": "d6913516-c6dc-4518-b31b-2169c8f455d2",
   "metadata": {},
   "outputs": [
    {
     "ename": "NameError",
     "evalue": "name 'test' is not defined",
     "output_type": "error",
     "traceback": [
      "\u001b[1;31m---------------------------------------------------------------------------\u001b[0m",
      "\u001b[1;31mNameError\u001b[0m                                 Traceback (most recent call last)",
      "Cell \u001b[1;32mIn[1], line 1\u001b[0m\n\u001b[1;32m----> 1\u001b[0m ids \u001b[38;5;241m=\u001b[39m \u001b[43mtest\u001b[49m[\u001b[38;5;124m'\u001b[39m\u001b[38;5;124mPassengerId\u001b[39m\u001b[38;5;124m'\u001b[39m] \n\u001b[0;32m      2\u001b[0m predictions \u001b[38;5;241m=\u001b[39m randomforest\u001b[38;5;241m.\u001b[39mpredict(test\u001b[38;5;241m.\u001b[39mdrop(\u001b[38;5;124m'\u001b[39m\u001b[38;5;124mPassengerId\u001b[39m\u001b[38;5;124m'\u001b[39m, axis\u001b[38;5;241m=\u001b[39m\u001b[38;5;241m1\u001b[39m)) \n\u001b[0;32m      4\u001b[0m \u001b[38;5;66;03m# set the output as a dataframe and convert \u001b[39;00m\n\u001b[0;32m      5\u001b[0m \u001b[38;5;66;03m# to csv file named resultfile.csv \u001b[39;00m\n",
      "\u001b[1;31mNameError\u001b[0m: name 'test' is not defined"
     ]
    }
   ],
   "source": [
    "ids = test['PassengerId'] \n",
    "predictions = randomforest.predict(test.drop('PassengerId', axis=1)) \n",
    "\n",
    "# set the output as a dataframe and convert \n",
    "# to csv file named resultfile.csv \n",
    "output = pd.DataFrame({'PassengerId': ids, 'Survived': predictions}) \n",
    "output.to_csv('resultfile.csv', index=False) "
   ]
  },
  {
   "cell_type": "code",
   "execution_count": null,
   "id": "056c89bb-20e2-4dc0-a143-30435861e83c",
   "metadata": {},
   "outputs": [],
   "source": []
  }
 ],
 "metadata": {
  "kernelspec": {
   "display_name": "Python 3 (ipykernel)",
   "language": "python",
   "name": "python3"
  },
  "language_info": {
   "codemirror_mode": {
    "name": "ipython",
    "version": 3
   },
   "file_extension": ".py",
   "mimetype": "text/x-python",
   "name": "python",
   "nbconvert_exporter": "python",
   "pygments_lexer": "ipython3",
   "version": "3.12.0"
  }
 },
 "nbformat": 4,
 "nbformat_minor": 5
}
